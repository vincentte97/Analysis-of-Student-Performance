{
 "cells": [
  {
   "cell_type": "code",
   "execution_count": 1,
   "id": "adfee689",
   "metadata": {},
   "outputs": [],
   "source": [
    "import pandas as pd\n",
    "import numpy as np\n",
    "import seaborn as sns\n",
    "import matplotlib.pyplot as plt\n"
   ]
  },
  {
   "cell_type": "markdown",
   "id": "14d96651",
   "metadata": {},
   "source": [
    "The First Step is Loading the Dataset"
   ]
  },
  {
   "cell_type": "code",
   "execution_count": 2,
   "id": "71974285",
   "metadata": {},
   "outputs": [],
   "source": [
    "df = pd. read_csv('StudentPerformanceData.csv')"
   ]
  },
  {
   "cell_type": "code",
   "execution_count": 3,
   "id": "01364cb3",
   "metadata": {
    "scrolled": true
   },
   "outputs": [
    {
     "data": {
      "text/html": [
       "<div>\n",
       "<style scoped>\n",
       "    .dataframe tbody tr th:only-of-type {\n",
       "        vertical-align: middle;\n",
       "    }\n",
       "\n",
       "    .dataframe tbody tr th {\n",
       "        vertical-align: top;\n",
       "    }\n",
       "\n",
       "    .dataframe thead th {\n",
       "        text-align: right;\n",
       "    }\n",
       "</style>\n",
       "<table border=\"1\" class=\"dataframe\">\n",
       "  <thead>\n",
       "    <tr style=\"text-align: right;\">\n",
       "      <th></th>\n",
       "      <th>school</th>\n",
       "      <th>sex</th>\n",
       "      <th>age</th>\n",
       "      <th>address</th>\n",
       "      <th>famsize</th>\n",
       "      <th>Pstatus</th>\n",
       "      <th>Medu</th>\n",
       "      <th>Fedu</th>\n",
       "      <th>Mjob</th>\n",
       "      <th>Fjob</th>\n",
       "      <th>...</th>\n",
       "      <th>famrel</th>\n",
       "      <th>freetime</th>\n",
       "      <th>goout</th>\n",
       "      <th>Dalc</th>\n",
       "      <th>Walc</th>\n",
       "      <th>health</th>\n",
       "      <th>absences</th>\n",
       "      <th>G1</th>\n",
       "      <th>G2</th>\n",
       "      <th>G3</th>\n",
       "    </tr>\n",
       "  </thead>\n",
       "  <tbody>\n",
       "    <tr>\n",
       "      <th>0</th>\n",
       "      <td>GP</td>\n",
       "      <td>F</td>\n",
       "      <td>18</td>\n",
       "      <td>U</td>\n",
       "      <td>GT3</td>\n",
       "      <td>A</td>\n",
       "      <td>4</td>\n",
       "      <td>4</td>\n",
       "      <td>at_home</td>\n",
       "      <td>teacher</td>\n",
       "      <td>...</td>\n",
       "      <td>4</td>\n",
       "      <td>3</td>\n",
       "      <td>4</td>\n",
       "      <td>1</td>\n",
       "      <td>1</td>\n",
       "      <td>3</td>\n",
       "      <td>6</td>\n",
       "      <td>5</td>\n",
       "      <td>6</td>\n",
       "      <td>6</td>\n",
       "    </tr>\n",
       "    <tr>\n",
       "      <th>1</th>\n",
       "      <td>GP</td>\n",
       "      <td>F</td>\n",
       "      <td>17</td>\n",
       "      <td>U</td>\n",
       "      <td>GT3</td>\n",
       "      <td>T</td>\n",
       "      <td>1</td>\n",
       "      <td>1</td>\n",
       "      <td>at_home</td>\n",
       "      <td>other</td>\n",
       "      <td>...</td>\n",
       "      <td>5</td>\n",
       "      <td>3</td>\n",
       "      <td>3</td>\n",
       "      <td>1</td>\n",
       "      <td>1</td>\n",
       "      <td>3</td>\n",
       "      <td>4</td>\n",
       "      <td>5</td>\n",
       "      <td>5</td>\n",
       "      <td>6</td>\n",
       "    </tr>\n",
       "    <tr>\n",
       "      <th>2</th>\n",
       "      <td>GP</td>\n",
       "      <td>F</td>\n",
       "      <td>15</td>\n",
       "      <td>U</td>\n",
       "      <td>LE3</td>\n",
       "      <td>T</td>\n",
       "      <td>1</td>\n",
       "      <td>1</td>\n",
       "      <td>at_home</td>\n",
       "      <td>other</td>\n",
       "      <td>...</td>\n",
       "      <td>4</td>\n",
       "      <td>3</td>\n",
       "      <td>2</td>\n",
       "      <td>2</td>\n",
       "      <td>3</td>\n",
       "      <td>3</td>\n",
       "      <td>10</td>\n",
       "      <td>7</td>\n",
       "      <td>8</td>\n",
       "      <td>10</td>\n",
       "    </tr>\n",
       "    <tr>\n",
       "      <th>3</th>\n",
       "      <td>GP</td>\n",
       "      <td>F</td>\n",
       "      <td>15</td>\n",
       "      <td>U</td>\n",
       "      <td>GT3</td>\n",
       "      <td>T</td>\n",
       "      <td>4</td>\n",
       "      <td>2</td>\n",
       "      <td>health</td>\n",
       "      <td>services</td>\n",
       "      <td>...</td>\n",
       "      <td>3</td>\n",
       "      <td>2</td>\n",
       "      <td>2</td>\n",
       "      <td>1</td>\n",
       "      <td>1</td>\n",
       "      <td>5</td>\n",
       "      <td>2</td>\n",
       "      <td>15</td>\n",
       "      <td>14</td>\n",
       "      <td>15</td>\n",
       "    </tr>\n",
       "    <tr>\n",
       "      <th>4</th>\n",
       "      <td>GP</td>\n",
       "      <td>F</td>\n",
       "      <td>16</td>\n",
       "      <td>U</td>\n",
       "      <td>GT3</td>\n",
       "      <td>T</td>\n",
       "      <td>3</td>\n",
       "      <td>3</td>\n",
       "      <td>other</td>\n",
       "      <td>other</td>\n",
       "      <td>...</td>\n",
       "      <td>4</td>\n",
       "      <td>3</td>\n",
       "      <td>2</td>\n",
       "      <td>1</td>\n",
       "      <td>2</td>\n",
       "      <td>5</td>\n",
       "      <td>4</td>\n",
       "      <td>6</td>\n",
       "      <td>10</td>\n",
       "      <td>10</td>\n",
       "    </tr>\n",
       "  </tbody>\n",
       "</table>\n",
       "<p>5 rows × 33 columns</p>\n",
       "</div>"
      ],
      "text/plain": [
       "  school sex  age address famsize Pstatus  Medu  Fedu     Mjob      Fjob  ...  \\\n",
       "0     GP   F   18       U     GT3       A     4     4  at_home   teacher  ...   \n",
       "1     GP   F   17       U     GT3       T     1     1  at_home     other  ...   \n",
       "2     GP   F   15       U     LE3       T     1     1  at_home     other  ...   \n",
       "3     GP   F   15       U     GT3       T     4     2   health  services  ...   \n",
       "4     GP   F   16       U     GT3       T     3     3    other     other  ...   \n",
       "\n",
       "  famrel freetime  goout  Dalc  Walc health absences  G1  G2  G3  \n",
       "0      4        3      4     1     1      3        6   5   6   6  \n",
       "1      5        3      3     1     1      3        4   5   5   6  \n",
       "2      4        3      2     2     3      3       10   7   8  10  \n",
       "3      3        2      2     1     1      5        2  15  14  15  \n",
       "4      4        3      2     1     2      5        4   6  10  10  \n",
       "\n",
       "[5 rows x 33 columns]"
      ]
     },
     "execution_count": 3,
     "metadata": {},
     "output_type": "execute_result"
    }
   ],
   "source": [
    "df.head()"
   ]
  },
  {
   "cell_type": "code",
   "execution_count": 4,
   "id": "e0ddd4b5",
   "metadata": {},
   "outputs": [
    {
     "data": {
      "text/html": [
       "<div>\n",
       "<style scoped>\n",
       "    .dataframe tbody tr th:only-of-type {\n",
       "        vertical-align: middle;\n",
       "    }\n",
       "\n",
       "    .dataframe tbody tr th {\n",
       "        vertical-align: top;\n",
       "    }\n",
       "\n",
       "    .dataframe thead th {\n",
       "        text-align: right;\n",
       "    }\n",
       "</style>\n",
       "<table border=\"1\" class=\"dataframe\">\n",
       "  <thead>\n",
       "    <tr style=\"text-align: right;\">\n",
       "      <th></th>\n",
       "      <th>school</th>\n",
       "      <th>sex</th>\n",
       "      <th>age</th>\n",
       "      <th>address</th>\n",
       "      <th>famsize</th>\n",
       "      <th>Pstatus</th>\n",
       "      <th>Medu</th>\n",
       "      <th>Fedu</th>\n",
       "      <th>Mjob</th>\n",
       "      <th>Fjob</th>\n",
       "      <th>...</th>\n",
       "      <th>famrel</th>\n",
       "      <th>freetime</th>\n",
       "      <th>goout</th>\n",
       "      <th>Dalc</th>\n",
       "      <th>Walc</th>\n",
       "      <th>health</th>\n",
       "      <th>absences</th>\n",
       "      <th>G1</th>\n",
       "      <th>G2</th>\n",
       "      <th>G3</th>\n",
       "    </tr>\n",
       "  </thead>\n",
       "  <tbody>\n",
       "    <tr>\n",
       "      <th>390</th>\n",
       "      <td>MS</td>\n",
       "      <td>M</td>\n",
       "      <td>20</td>\n",
       "      <td>U</td>\n",
       "      <td>LE3</td>\n",
       "      <td>A</td>\n",
       "      <td>2</td>\n",
       "      <td>2</td>\n",
       "      <td>services</td>\n",
       "      <td>services</td>\n",
       "      <td>...</td>\n",
       "      <td>5</td>\n",
       "      <td>5</td>\n",
       "      <td>4</td>\n",
       "      <td>4</td>\n",
       "      <td>5</td>\n",
       "      <td>4</td>\n",
       "      <td>11</td>\n",
       "      <td>9</td>\n",
       "      <td>9</td>\n",
       "      <td>9</td>\n",
       "    </tr>\n",
       "    <tr>\n",
       "      <th>391</th>\n",
       "      <td>MS</td>\n",
       "      <td>M</td>\n",
       "      <td>17</td>\n",
       "      <td>U</td>\n",
       "      <td>LE3</td>\n",
       "      <td>T</td>\n",
       "      <td>3</td>\n",
       "      <td>1</td>\n",
       "      <td>services</td>\n",
       "      <td>services</td>\n",
       "      <td>...</td>\n",
       "      <td>2</td>\n",
       "      <td>4</td>\n",
       "      <td>5</td>\n",
       "      <td>3</td>\n",
       "      <td>4</td>\n",
       "      <td>2</td>\n",
       "      <td>3</td>\n",
       "      <td>14</td>\n",
       "      <td>16</td>\n",
       "      <td>16</td>\n",
       "    </tr>\n",
       "    <tr>\n",
       "      <th>392</th>\n",
       "      <td>MS</td>\n",
       "      <td>M</td>\n",
       "      <td>21</td>\n",
       "      <td>R</td>\n",
       "      <td>GT3</td>\n",
       "      <td>T</td>\n",
       "      <td>1</td>\n",
       "      <td>1</td>\n",
       "      <td>other</td>\n",
       "      <td>other</td>\n",
       "      <td>...</td>\n",
       "      <td>5</td>\n",
       "      <td>5</td>\n",
       "      <td>3</td>\n",
       "      <td>3</td>\n",
       "      <td>3</td>\n",
       "      <td>3</td>\n",
       "      <td>3</td>\n",
       "      <td>10</td>\n",
       "      <td>8</td>\n",
       "      <td>7</td>\n",
       "    </tr>\n",
       "    <tr>\n",
       "      <th>393</th>\n",
       "      <td>MS</td>\n",
       "      <td>M</td>\n",
       "      <td>18</td>\n",
       "      <td>R</td>\n",
       "      <td>LE3</td>\n",
       "      <td>T</td>\n",
       "      <td>3</td>\n",
       "      <td>2</td>\n",
       "      <td>services</td>\n",
       "      <td>other</td>\n",
       "      <td>...</td>\n",
       "      <td>4</td>\n",
       "      <td>4</td>\n",
       "      <td>1</td>\n",
       "      <td>3</td>\n",
       "      <td>4</td>\n",
       "      <td>5</td>\n",
       "      <td>0</td>\n",
       "      <td>11</td>\n",
       "      <td>12</td>\n",
       "      <td>10</td>\n",
       "    </tr>\n",
       "    <tr>\n",
       "      <th>394</th>\n",
       "      <td>MS</td>\n",
       "      <td>M</td>\n",
       "      <td>19</td>\n",
       "      <td>U</td>\n",
       "      <td>LE3</td>\n",
       "      <td>T</td>\n",
       "      <td>1</td>\n",
       "      <td>1</td>\n",
       "      <td>other</td>\n",
       "      <td>at_home</td>\n",
       "      <td>...</td>\n",
       "      <td>3</td>\n",
       "      <td>2</td>\n",
       "      <td>3</td>\n",
       "      <td>3</td>\n",
       "      <td>3</td>\n",
       "      <td>5</td>\n",
       "      <td>5</td>\n",
       "      <td>8</td>\n",
       "      <td>9</td>\n",
       "      <td>9</td>\n",
       "    </tr>\n",
       "  </tbody>\n",
       "</table>\n",
       "<p>5 rows × 33 columns</p>\n",
       "</div>"
      ],
      "text/plain": [
       "    school sex  age address famsize Pstatus  Medu  Fedu      Mjob      Fjob  \\\n",
       "390     MS   M   20       U     LE3       A     2     2  services  services   \n",
       "391     MS   M   17       U     LE3       T     3     1  services  services   \n",
       "392     MS   M   21       R     GT3       T     1     1     other     other   \n",
       "393     MS   M   18       R     LE3       T     3     2  services     other   \n",
       "394     MS   M   19       U     LE3       T     1     1     other   at_home   \n",
       "\n",
       "     ... famrel freetime  goout  Dalc  Walc health absences  G1  G2  G3  \n",
       "390  ...      5        5      4     4     5      4       11   9   9   9  \n",
       "391  ...      2        4      5     3     4      2        3  14  16  16  \n",
       "392  ...      5        5      3     3     3      3        3  10   8   7  \n",
       "393  ...      4        4      1     3     4      5        0  11  12  10  \n",
       "394  ...      3        2      3     3     3      5        5   8   9   9  \n",
       "\n",
       "[5 rows x 33 columns]"
      ]
     },
     "execution_count": 4,
     "metadata": {},
     "output_type": "execute_result"
    }
   ],
   "source": [
    "df.tail()"
   ]
  },
  {
   "cell_type": "markdown",
   "id": "ea170b44",
   "metadata": {},
   "source": [
    "The Next Step is Data Pre-Processing "
   ]
  },
  {
   "cell_type": "code",
   "execution_count": 5,
   "id": "b2321f23",
   "metadata": {},
   "outputs": [
    {
     "name": "stdout",
     "output_type": "stream",
     "text": [
      "<class 'pandas.core.frame.DataFrame'>\n",
      "RangeIndex: 395 entries, 0 to 394\n",
      "Data columns (total 33 columns):\n",
      " #   Column      Non-Null Count  Dtype \n",
      "---  ------      --------------  ----- \n",
      " 0   school      395 non-null    object\n",
      " 1   sex         395 non-null    object\n",
      " 2   age         395 non-null    int64 \n",
      " 3   address     395 non-null    object\n",
      " 4   famsize     395 non-null    object\n",
      " 5   Pstatus     395 non-null    object\n",
      " 6   Medu        395 non-null    int64 \n",
      " 7   Fedu        395 non-null    int64 \n",
      " 8   Mjob        395 non-null    object\n",
      " 9   Fjob        395 non-null    object\n",
      " 10  reason      395 non-null    object\n",
      " 11  guardian    395 non-null    object\n",
      " 12  traveltime  395 non-null    int64 \n",
      " 13  studytime   395 non-null    int64 \n",
      " 14  failures    395 non-null    int64 \n",
      " 15  schoolsup   395 non-null    object\n",
      " 16  famsup      395 non-null    object\n",
      " 17  paid        395 non-null    object\n",
      " 18  activities  395 non-null    object\n",
      " 19  nursery     395 non-null    object\n",
      " 20  higher      395 non-null    object\n",
      " 21  internet    395 non-null    object\n",
      " 22  romantic    395 non-null    object\n",
      " 23  famrel      395 non-null    int64 \n",
      " 24  freetime    395 non-null    int64 \n",
      " 25  goout       395 non-null    int64 \n",
      " 26  Dalc        395 non-null    int64 \n",
      " 27  Walc        395 non-null    int64 \n",
      " 28  health      395 non-null    int64 \n",
      " 29  absences    395 non-null    int64 \n",
      " 30  G1          395 non-null    int64 \n",
      " 31  G2          395 non-null    int64 \n",
      " 32  G3          395 non-null    int64 \n",
      "dtypes: int64(16), object(17)\n",
      "memory usage: 102.0+ KB\n"
     ]
    }
   ],
   "source": [
    "df.info()"
   ]
  },
  {
   "cell_type": "markdown",
   "id": "061f2df6",
   "metadata": {},
   "source": [
    "Dropping Columns in the Data"
   ]
  },
  {
   "cell_type": "code",
   "execution_count": 6,
   "id": "b02fe7ad",
   "metadata": {},
   "outputs": [],
   "source": [
    "drop_columns = ['Dalc','Walc','reason','famsup','address','paid']"
   ]
  },
  {
   "cell_type": "code",
   "execution_count": 7,
   "id": "b5114118",
   "metadata": {},
   "outputs": [],
   "source": [
    "df.drop(columns=drop_columns, inplace = True)"
   ]
  },
  {
   "cell_type": "code",
   "execution_count": 8,
   "id": "33d77eb6",
   "metadata": {},
   "outputs": [
    {
     "data": {
      "text/html": [
       "<div>\n",
       "<style scoped>\n",
       "    .dataframe tbody tr th:only-of-type {\n",
       "        vertical-align: middle;\n",
       "    }\n",
       "\n",
       "    .dataframe tbody tr th {\n",
       "        vertical-align: top;\n",
       "    }\n",
       "\n",
       "    .dataframe thead th {\n",
       "        text-align: right;\n",
       "    }\n",
       "</style>\n",
       "<table border=\"1\" class=\"dataframe\">\n",
       "  <thead>\n",
       "    <tr style=\"text-align: right;\">\n",
       "      <th></th>\n",
       "      <th>age</th>\n",
       "      <th>Medu</th>\n",
       "      <th>Fedu</th>\n",
       "      <th>traveltime</th>\n",
       "      <th>studytime</th>\n",
       "      <th>failures</th>\n",
       "      <th>famrel</th>\n",
       "      <th>freetime</th>\n",
       "      <th>goout</th>\n",
       "      <th>health</th>\n",
       "      <th>absences</th>\n",
       "      <th>G1</th>\n",
       "      <th>G2</th>\n",
       "      <th>G3</th>\n",
       "    </tr>\n",
       "  </thead>\n",
       "  <tbody>\n",
       "    <tr>\n",
       "      <th>count</th>\n",
       "      <td>395.000000</td>\n",
       "      <td>395.000000</td>\n",
       "      <td>395.000000</td>\n",
       "      <td>395.000000</td>\n",
       "      <td>395.000000</td>\n",
       "      <td>395.000000</td>\n",
       "      <td>395.000000</td>\n",
       "      <td>395.000000</td>\n",
       "      <td>395.000000</td>\n",
       "      <td>395.000000</td>\n",
       "      <td>395.000000</td>\n",
       "      <td>395.000000</td>\n",
       "      <td>395.000000</td>\n",
       "      <td>395.000000</td>\n",
       "    </tr>\n",
       "    <tr>\n",
       "      <th>mean</th>\n",
       "      <td>16.696203</td>\n",
       "      <td>2.749367</td>\n",
       "      <td>2.521519</td>\n",
       "      <td>1.448101</td>\n",
       "      <td>2.035443</td>\n",
       "      <td>0.334177</td>\n",
       "      <td>3.944304</td>\n",
       "      <td>3.235443</td>\n",
       "      <td>3.108861</td>\n",
       "      <td>3.554430</td>\n",
       "      <td>5.708861</td>\n",
       "      <td>10.908861</td>\n",
       "      <td>10.713924</td>\n",
       "      <td>10.415190</td>\n",
       "    </tr>\n",
       "    <tr>\n",
       "      <th>std</th>\n",
       "      <td>1.276043</td>\n",
       "      <td>1.094735</td>\n",
       "      <td>1.088201</td>\n",
       "      <td>0.697505</td>\n",
       "      <td>0.839240</td>\n",
       "      <td>0.743651</td>\n",
       "      <td>0.896659</td>\n",
       "      <td>0.998862</td>\n",
       "      <td>1.113278</td>\n",
       "      <td>1.390303</td>\n",
       "      <td>8.003096</td>\n",
       "      <td>3.319195</td>\n",
       "      <td>3.761505</td>\n",
       "      <td>4.581443</td>\n",
       "    </tr>\n",
       "    <tr>\n",
       "      <th>min</th>\n",
       "      <td>15.000000</td>\n",
       "      <td>0.000000</td>\n",
       "      <td>0.000000</td>\n",
       "      <td>1.000000</td>\n",
       "      <td>1.000000</td>\n",
       "      <td>0.000000</td>\n",
       "      <td>1.000000</td>\n",
       "      <td>1.000000</td>\n",
       "      <td>1.000000</td>\n",
       "      <td>1.000000</td>\n",
       "      <td>0.000000</td>\n",
       "      <td>3.000000</td>\n",
       "      <td>0.000000</td>\n",
       "      <td>0.000000</td>\n",
       "    </tr>\n",
       "    <tr>\n",
       "      <th>25%</th>\n",
       "      <td>16.000000</td>\n",
       "      <td>2.000000</td>\n",
       "      <td>2.000000</td>\n",
       "      <td>1.000000</td>\n",
       "      <td>1.000000</td>\n",
       "      <td>0.000000</td>\n",
       "      <td>4.000000</td>\n",
       "      <td>3.000000</td>\n",
       "      <td>2.000000</td>\n",
       "      <td>3.000000</td>\n",
       "      <td>0.000000</td>\n",
       "      <td>8.000000</td>\n",
       "      <td>9.000000</td>\n",
       "      <td>8.000000</td>\n",
       "    </tr>\n",
       "    <tr>\n",
       "      <th>50%</th>\n",
       "      <td>17.000000</td>\n",
       "      <td>3.000000</td>\n",
       "      <td>2.000000</td>\n",
       "      <td>1.000000</td>\n",
       "      <td>2.000000</td>\n",
       "      <td>0.000000</td>\n",
       "      <td>4.000000</td>\n",
       "      <td>3.000000</td>\n",
       "      <td>3.000000</td>\n",
       "      <td>4.000000</td>\n",
       "      <td>4.000000</td>\n",
       "      <td>11.000000</td>\n",
       "      <td>11.000000</td>\n",
       "      <td>11.000000</td>\n",
       "    </tr>\n",
       "    <tr>\n",
       "      <th>75%</th>\n",
       "      <td>18.000000</td>\n",
       "      <td>4.000000</td>\n",
       "      <td>3.000000</td>\n",
       "      <td>2.000000</td>\n",
       "      <td>2.000000</td>\n",
       "      <td>0.000000</td>\n",
       "      <td>5.000000</td>\n",
       "      <td>4.000000</td>\n",
       "      <td>4.000000</td>\n",
       "      <td>5.000000</td>\n",
       "      <td>8.000000</td>\n",
       "      <td>13.000000</td>\n",
       "      <td>13.000000</td>\n",
       "      <td>14.000000</td>\n",
       "    </tr>\n",
       "    <tr>\n",
       "      <th>max</th>\n",
       "      <td>22.000000</td>\n",
       "      <td>4.000000</td>\n",
       "      <td>4.000000</td>\n",
       "      <td>4.000000</td>\n",
       "      <td>4.000000</td>\n",
       "      <td>3.000000</td>\n",
       "      <td>5.000000</td>\n",
       "      <td>5.000000</td>\n",
       "      <td>5.000000</td>\n",
       "      <td>5.000000</td>\n",
       "      <td>75.000000</td>\n",
       "      <td>19.000000</td>\n",
       "      <td>19.000000</td>\n",
       "      <td>20.000000</td>\n",
       "    </tr>\n",
       "  </tbody>\n",
       "</table>\n",
       "</div>"
      ],
      "text/plain": [
       "              age        Medu        Fedu  traveltime   studytime    failures  \\\n",
       "count  395.000000  395.000000  395.000000  395.000000  395.000000  395.000000   \n",
       "mean    16.696203    2.749367    2.521519    1.448101    2.035443    0.334177   \n",
       "std      1.276043    1.094735    1.088201    0.697505    0.839240    0.743651   \n",
       "min     15.000000    0.000000    0.000000    1.000000    1.000000    0.000000   \n",
       "25%     16.000000    2.000000    2.000000    1.000000    1.000000    0.000000   \n",
       "50%     17.000000    3.000000    2.000000    1.000000    2.000000    0.000000   \n",
       "75%     18.000000    4.000000    3.000000    2.000000    2.000000    0.000000   \n",
       "max     22.000000    4.000000    4.000000    4.000000    4.000000    3.000000   \n",
       "\n",
       "           famrel    freetime       goout      health    absences          G1  \\\n",
       "count  395.000000  395.000000  395.000000  395.000000  395.000000  395.000000   \n",
       "mean     3.944304    3.235443    3.108861    3.554430    5.708861   10.908861   \n",
       "std      0.896659    0.998862    1.113278    1.390303    8.003096    3.319195   \n",
       "min      1.000000    1.000000    1.000000    1.000000    0.000000    3.000000   \n",
       "25%      4.000000    3.000000    2.000000    3.000000    0.000000    8.000000   \n",
       "50%      4.000000    3.000000    3.000000    4.000000    4.000000   11.000000   \n",
       "75%      5.000000    4.000000    4.000000    5.000000    8.000000   13.000000   \n",
       "max      5.000000    5.000000    5.000000    5.000000   75.000000   19.000000   \n",
       "\n",
       "               G2          G3  \n",
       "count  395.000000  395.000000  \n",
       "mean    10.713924   10.415190  \n",
       "std      3.761505    4.581443  \n",
       "min      0.000000    0.000000  \n",
       "25%      9.000000    8.000000  \n",
       "50%     11.000000   11.000000  \n",
       "75%     13.000000   14.000000  \n",
       "max     19.000000   20.000000  "
      ]
     },
     "execution_count": 8,
     "metadata": {},
     "output_type": "execute_result"
    }
   ],
   "source": [
    "df.describe()"
   ]
  },
  {
   "cell_type": "markdown",
   "id": "3b92a942",
   "metadata": {},
   "source": [
    "With the above command, we can quickly determine these points:\n",
    "\n",
    "- The students are of the age 15 to 22\n",
    "- The average age of 395 students is 16-17\n",
    "- The average educational rank of the Mother and Father is 1.09, which indicates that they are not well-educated.\n",
    "- A student study for 2 hr in a day on an average \n",
    "- The average for all three grades is the same 10"
   ]
  },
  {
   "cell_type": "markdown",
   "id": "3e13180f",
   "metadata": {},
   "source": [
    "Since the three grades averages are equal, let's take the average grade as an another feature that will be the mean of the three grades"
   ]
  },
  {
   "cell_type": "code",
   "execution_count": 9,
   "id": "95049d86",
   "metadata": {},
   "outputs": [],
   "source": [
    "df[\"G-avg\"] = (df.G1+df.G2+df.G3)/3"
   ]
  },
  {
   "cell_type": "code",
   "execution_count": 10,
   "id": "d0776bad",
   "metadata": {},
   "outputs": [
    {
     "data": {
      "text/plain": [
       "0     5.666667\n",
       "1     5.333333\n",
       "2     8.333333\n",
       "3    14.666667\n",
       "4     8.666667\n",
       "Name: G-avg, dtype: float64"
      ]
     },
     "execution_count": 10,
     "metadata": {},
     "output_type": "execute_result"
    }
   ],
   "source": [
    "df[\"G-avg\"].head()"
   ]
  },
  {
   "cell_type": "markdown",
   "id": "4557bcdc",
   "metadata": {},
   "source": [
    "If we compare the three grades of the first five student, the average grade fits perfectly to them, as the value is closer to all three"
   ]
  },
  {
   "cell_type": "markdown",
   "id": "dc8881d4",
   "metadata": {},
   "source": [
    "Let's examine the specific factors that influence a student's grade."
   ]
  },
  {
   "cell_type": "code",
   "execution_count": 11,
   "id": "66d623ba",
   "metadata": {},
   "outputs": [
    {
     "data": {
      "text/plain": [
       "Text(0.5, 1.0, 'number of students attending various schools')"
      ]
     },
     "execution_count": 11,
     "metadata": {},
     "output_type": "execute_result"
    },
    {
     "data": {
      "image/png": "[encoded data removed]",
      "text/plain": [
       "<Figure size 432x288 with 1 Axes>"
      ]
     },
     "metadata": {
      "needs_background": "light"
     },
     "output_type": "display_data"
    }
   ],
   "source": [
    "plt.hist(df.school)\n",
    "plt.title(\"number of students attending various schools\")"
   ]
  },
  {
   "cell_type": "markdown",
   "id": "5dc5be85",
   "metadata": {},
   "source": [
    "This indicates that there are just two schools where student performance is documented. There are much fewer kids attending MS schools than GP schools."
   ]
  },
  {
   "cell_type": "code",
   "execution_count": 12,
   "id": "31ab8a97",
   "metadata": {},
   "outputs": [
    {
     "data": {
      "text/plain": [
       "Text(0.5, 1.0, 'students study time')"
      ]
     },
     "execution_count": 12,
     "metadata": {},
     "output_type": "execute_result"
    },
    {
     "data": {
      "image/png": "[encoded data removed]",
      "text/plain": [
       "<Figure size 432x288 with 1 Axes>"
      ]
     },
     "metadata": {
      "needs_background": "light"
     },
     "output_type": "display_data"
    }
   ],
   "source": [
    "plt.hist(df.studytime)\n",
    "plt.title('students study time')"
   ]
  },
  {
   "cell_type": "markdown",
   "id": "6c46fdf1",
   "metadata": {},
   "source": [
    "Most students study for about 2 hours, a few for 1 hour, a few for 3 hours, and very few for 4 hours"
   ]
  },
  {
   "cell_type": "code",
   "execution_count": 13,
   "id": "65e0a7c7",
   "metadata": {},
   "outputs": [
    {
     "data": {
      "text/plain": [
       "Text(0.5, 1.0, 'Number of failures among students')"
      ]
     },
     "execution_count": 13,
     "metadata": {},
     "output_type": "execute_result"
    },
    {
     "data": {
      "image/png": "[encoded data removed]",
      "text/plain": [
       "<Figure size 432x288 with 1 Axes>"
      ]
     },
     "metadata": {
      "needs_background": "light"
     },
     "output_type": "display_data"
    }
   ],
   "source": [
    "plt.hist(df.failures)\n",
    "plt.title(\"Number of failures among students\")"
   ]
  },
  {
   "cell_type": "code",
   "execution_count": null,
   "id": "ce955ec4",
   "metadata": {},
   "outputs": [],
   "source": []
  },
  {
   "cell_type": "markdown",
   "id": "9133ff87",
   "metadata": {},
   "source": [
    "Very few students failed, the most times any student failed is 3"
   ]
  },
  {
   "cell_type": "code",
   "execution_count": 14,
   "id": "9f19fd70",
   "metadata": {},
   "outputs": [
    {
     "data": {
      "text/plain": [
       "{'whiskers': [<matplotlib.lines.Line2D at 0x1957d09a6a0>,\n",
       "  <matplotlib.lines.Line2D at 0x1957d09aa00>],\n",
       " 'caps': [<matplotlib.lines.Line2D at 0x1957d09ad60>,\n",
       "  <matplotlib.lines.Line2D at 0x1957d0a5100>],\n",
       " 'boxes': [<matplotlib.lines.Line2D at 0x1957d09a340>],\n",
       " 'medians': [<matplotlib.lines.Line2D at 0x1957d0a5460>],\n",
       " 'fliers': [<matplotlib.lines.Line2D at 0x1957d0a57c0>],\n",
       " 'means': []}"
      ]
     },
     "execution_count": 14,
     "metadata": {},
     "output_type": "execute_result"
    },
    {
     "data": {
      "image/png": "[encoded data removed]",
      "text/plain": [
       "<Figure size 432x288 with 1 Axes>"
      ]
     },
     "metadata": {
      "needs_background": "light"
     },
     "output_type": "display_data"
    }
   ],
   "source": [
    "plt.boxplot(df['age'])"
   ]
  },
  {
   "cell_type": "markdown",
   "id": "f8a7ce06",
   "metadata": {},
   "source": [
    "The Boxplot shows that the majority of pupils are between the ages of 16 to 18, with only a few outliers that are 22. There may be a variety of reasons for this outlier"
   ]
  },
  {
   "cell_type": "markdown",
   "id": "82c2cfac",
   "metadata": {},
   "source": [
    "Let's look at the number of failures this student has experienced"
   ]
  },
  {
   "cell_type": "code",
   "execution_count": 15,
   "id": "14982108",
   "metadata": {},
   "outputs": [
    {
     "data": {
      "text/html": [
       "<div>\n",
       "<style scoped>\n",
       "    .dataframe tbody tr th:only-of-type {\n",
       "        vertical-align: middle;\n",
       "    }\n",
       "\n",
       "    .dataframe tbody tr th {\n",
       "        vertical-align: top;\n",
       "    }\n",
       "\n",
       "    .dataframe thead th {\n",
       "        text-align: right;\n",
       "    }\n",
       "</style>\n",
       "<table border=\"1\" class=\"dataframe\">\n",
       "  <thead>\n",
       "    <tr style=\"text-align: right;\">\n",
       "      <th></th>\n",
       "      <th>age</th>\n",
       "      <th>studytime</th>\n",
       "      <th>traveltime</th>\n",
       "      <th>failures</th>\n",
       "      <th>absences</th>\n",
       "      <th>G-avg</th>\n",
       "    </tr>\n",
       "  </thead>\n",
       "  <tbody>\n",
       "    <tr>\n",
       "      <th>247</th>\n",
       "      <td>22</td>\n",
       "      <td>1</td>\n",
       "      <td>1</td>\n",
       "      <td>3</td>\n",
       "      <td>16</td>\n",
       "      <td>7.333333</td>\n",
       "    </tr>\n",
       "  </tbody>\n",
       "</table>\n",
       "</div>"
      ],
      "text/plain": [
       "     age  studytime  traveltime  failures  absences     G-avg\n",
       "247   22          1           1         3        16  7.333333"
      ]
     },
     "execution_count": 15,
     "metadata": {},
     "output_type": "execute_result"
    }
   ],
   "source": [
    "df[['age','studytime','traveltime','failures','absences','G-avg']].loc[df.age ==22]"
   ]
  },
  {
   "cell_type": "markdown",
   "id": "86799714",
   "metadata": {},
   "source": [
    "The student in question has the greatest failure rate in the dataset and the study period is one hour, \n",
    "which makes them an exceptional example in terms of age.\n",
    "\n",
    "- This leads us to believe that perhaps this student is not the best in his or her schoolwork"
   ]
  },
  {
   "cell_type": "markdown",
   "id": "ae14348e",
   "metadata": {},
   "source": [
    "Let's examine students who have failed 3 times"
   ]
  },
  {
   "cell_type": "code",
   "execution_count": 16,
   "id": "a9ceb1c5",
   "metadata": {},
   "outputs": [
    {
     "data": {
      "text/html": [
       "<div>\n",
       "<style scoped>\n",
       "    .dataframe tbody tr th:only-of-type {\n",
       "        vertical-align: middle;\n",
       "    }\n",
       "\n",
       "    .dataframe tbody tr th {\n",
       "        vertical-align: top;\n",
       "    }\n",
       "\n",
       "    .dataframe thead th {\n",
       "        text-align: right;\n",
       "    }\n",
       "</style>\n",
       "<table border=\"1\" class=\"dataframe\">\n",
       "  <thead>\n",
       "    <tr style=\"text-align: right;\">\n",
       "      <th></th>\n",
       "      <th>school</th>\n",
       "      <th>sex</th>\n",
       "      <th>age</th>\n",
       "      <th>famsize</th>\n",
       "      <th>Pstatus</th>\n",
       "      <th>Medu</th>\n",
       "      <th>Fedu</th>\n",
       "      <th>Mjob</th>\n",
       "      <th>Fjob</th>\n",
       "      <th>guardian</th>\n",
       "      <th>...</th>\n",
       "      <th>romantic</th>\n",
       "      <th>famrel</th>\n",
       "      <th>freetime</th>\n",
       "      <th>goout</th>\n",
       "      <th>health</th>\n",
       "      <th>absences</th>\n",
       "      <th>G1</th>\n",
       "      <th>G2</th>\n",
       "      <th>G3</th>\n",
       "      <th>G-avg</th>\n",
       "    </tr>\n",
       "  </thead>\n",
       "  <tbody>\n",
       "    <tr>\n",
       "      <th>2</th>\n",
       "      <td>GP</td>\n",
       "      <td>F</td>\n",
       "      <td>15</td>\n",
       "      <td>LE3</td>\n",
       "      <td>T</td>\n",
       "      <td>1</td>\n",
       "      <td>1</td>\n",
       "      <td>at_home</td>\n",
       "      <td>other</td>\n",
       "      <td>mother</td>\n",
       "      <td>...</td>\n",
       "      <td>no</td>\n",
       "      <td>4</td>\n",
       "      <td>3</td>\n",
       "      <td>2</td>\n",
       "      <td>3</td>\n",
       "      <td>10</td>\n",
       "      <td>7</td>\n",
       "      <td>8</td>\n",
       "      <td>10</td>\n",
       "      <td>8.333333</td>\n",
       "    </tr>\n",
       "    <tr>\n",
       "      <th>18</th>\n",
       "      <td>GP</td>\n",
       "      <td>M</td>\n",
       "      <td>17</td>\n",
       "      <td>GT3</td>\n",
       "      <td>T</td>\n",
       "      <td>3</td>\n",
       "      <td>2</td>\n",
       "      <td>services</td>\n",
       "      <td>services</td>\n",
       "      <td>mother</td>\n",
       "      <td>...</td>\n",
       "      <td>no</td>\n",
       "      <td>5</td>\n",
       "      <td>5</td>\n",
       "      <td>5</td>\n",
       "      <td>5</td>\n",
       "      <td>16</td>\n",
       "      <td>6</td>\n",
       "      <td>5</td>\n",
       "      <td>5</td>\n",
       "      <td>5.333333</td>\n",
       "    </tr>\n",
       "    <tr>\n",
       "      <th>78</th>\n",
       "      <td>GP</td>\n",
       "      <td>M</td>\n",
       "      <td>17</td>\n",
       "      <td>GT3</td>\n",
       "      <td>T</td>\n",
       "      <td>2</td>\n",
       "      <td>1</td>\n",
       "      <td>other</td>\n",
       "      <td>other</td>\n",
       "      <td>mother</td>\n",
       "      <td>...</td>\n",
       "      <td>no</td>\n",
       "      <td>4</td>\n",
       "      <td>5</td>\n",
       "      <td>1</td>\n",
       "      <td>3</td>\n",
       "      <td>2</td>\n",
       "      <td>8</td>\n",
       "      <td>8</td>\n",
       "      <td>10</td>\n",
       "      <td>8.666667</td>\n",
       "    </tr>\n",
       "    <tr>\n",
       "      <th>127</th>\n",
       "      <td>GP</td>\n",
       "      <td>F</td>\n",
       "      <td>19</td>\n",
       "      <td>GT3</td>\n",
       "      <td>T</td>\n",
       "      <td>0</td>\n",
       "      <td>1</td>\n",
       "      <td>at_home</td>\n",
       "      <td>other</td>\n",
       "      <td>other</td>\n",
       "      <td>...</td>\n",
       "      <td>no</td>\n",
       "      <td>3</td>\n",
       "      <td>4</td>\n",
       "      <td>2</td>\n",
       "      <td>5</td>\n",
       "      <td>2</td>\n",
       "      <td>7</td>\n",
       "      <td>8</td>\n",
       "      <td>9</td>\n",
       "      <td>8.000000</td>\n",
       "    </tr>\n",
       "    <tr>\n",
       "      <th>144</th>\n",
       "      <td>GP</td>\n",
       "      <td>M</td>\n",
       "      <td>17</td>\n",
       "      <td>GT3</td>\n",
       "      <td>T</td>\n",
       "      <td>2</td>\n",
       "      <td>1</td>\n",
       "      <td>other</td>\n",
       "      <td>other</td>\n",
       "      <td>mother</td>\n",
       "      <td>...</td>\n",
       "      <td>no</td>\n",
       "      <td>5</td>\n",
       "      <td>4</td>\n",
       "      <td>5</td>\n",
       "      <td>5</td>\n",
       "      <td>0</td>\n",
       "      <td>5</td>\n",
       "      <td>0</td>\n",
       "      <td>0</td>\n",
       "      <td>1.666667</td>\n",
       "    </tr>\n",
       "    <tr>\n",
       "      <th>146</th>\n",
       "      <td>GP</td>\n",
       "      <td>F</td>\n",
       "      <td>15</td>\n",
       "      <td>GT3</td>\n",
       "      <td>T</td>\n",
       "      <td>3</td>\n",
       "      <td>2</td>\n",
       "      <td>health</td>\n",
       "      <td>services</td>\n",
       "      <td>father</td>\n",
       "      <td>...</td>\n",
       "      <td>no</td>\n",
       "      <td>3</td>\n",
       "      <td>3</td>\n",
       "      <td>2</td>\n",
       "      <td>3</td>\n",
       "      <td>0</td>\n",
       "      <td>6</td>\n",
       "      <td>7</td>\n",
       "      <td>0</td>\n",
       "      <td>4.333333</td>\n",
       "    </tr>\n",
       "    <tr>\n",
       "      <th>149</th>\n",
       "      <td>GP</td>\n",
       "      <td>M</td>\n",
       "      <td>15</td>\n",
       "      <td>LE3</td>\n",
       "      <td>A</td>\n",
       "      <td>2</td>\n",
       "      <td>1</td>\n",
       "      <td>services</td>\n",
       "      <td>other</td>\n",
       "      <td>mother</td>\n",
       "      <td>...</td>\n",
       "      <td>no</td>\n",
       "      <td>4</td>\n",
       "      <td>5</td>\n",
       "      <td>5</td>\n",
       "      <td>5</td>\n",
       "      <td>0</td>\n",
       "      <td>8</td>\n",
       "      <td>9</td>\n",
       "      <td>10</td>\n",
       "      <td>9.000000</td>\n",
       "    </tr>\n",
       "    <tr>\n",
       "      <th>150</th>\n",
       "      <td>GP</td>\n",
       "      <td>M</td>\n",
       "      <td>18</td>\n",
       "      <td>LE3</td>\n",
       "      <td>T</td>\n",
       "      <td>1</td>\n",
       "      <td>1</td>\n",
       "      <td>other</td>\n",
       "      <td>other</td>\n",
       "      <td>mother</td>\n",
       "      <td>...</td>\n",
       "      <td>yes</td>\n",
       "      <td>2</td>\n",
       "      <td>3</td>\n",
       "      <td>5</td>\n",
       "      <td>4</td>\n",
       "      <td>0</td>\n",
       "      <td>6</td>\n",
       "      <td>5</td>\n",
       "      <td>0</td>\n",
       "      <td>3.666667</td>\n",
       "    </tr>\n",
       "    <tr>\n",
       "      <th>153</th>\n",
       "      <td>GP</td>\n",
       "      <td>M</td>\n",
       "      <td>19</td>\n",
       "      <td>GT3</td>\n",
       "      <td>T</td>\n",
       "      <td>3</td>\n",
       "      <td>2</td>\n",
       "      <td>services</td>\n",
       "      <td>at_home</td>\n",
       "      <td>mother</td>\n",
       "      <td>...</td>\n",
       "      <td>yes</td>\n",
       "      <td>4</td>\n",
       "      <td>5</td>\n",
       "      <td>4</td>\n",
       "      <td>4</td>\n",
       "      <td>0</td>\n",
       "      <td>5</td>\n",
       "      <td>0</td>\n",
       "      <td>0</td>\n",
       "      <td>1.666667</td>\n",
       "    </tr>\n",
       "    <tr>\n",
       "      <th>157</th>\n",
       "      <td>GP</td>\n",
       "      <td>F</td>\n",
       "      <td>18</td>\n",
       "      <td>GT3</td>\n",
       "      <td>T</td>\n",
       "      <td>1</td>\n",
       "      <td>1</td>\n",
       "      <td>at_home</td>\n",
       "      <td>other</td>\n",
       "      <td>mother</td>\n",
       "      <td>...</td>\n",
       "      <td>no</td>\n",
       "      <td>5</td>\n",
       "      <td>2</td>\n",
       "      <td>5</td>\n",
       "      <td>4</td>\n",
       "      <td>6</td>\n",
       "      <td>9</td>\n",
       "      <td>8</td>\n",
       "      <td>10</td>\n",
       "      <td>9.000000</td>\n",
       "    </tr>\n",
       "    <tr>\n",
       "      <th>164</th>\n",
       "      <td>GP</td>\n",
       "      <td>M</td>\n",
       "      <td>17</td>\n",
       "      <td>LE3</td>\n",
       "      <td>T</td>\n",
       "      <td>1</td>\n",
       "      <td>1</td>\n",
       "      <td>other</td>\n",
       "      <td>services</td>\n",
       "      <td>mother</td>\n",
       "      <td>...</td>\n",
       "      <td>yes</td>\n",
       "      <td>5</td>\n",
       "      <td>3</td>\n",
       "      <td>5</td>\n",
       "      <td>5</td>\n",
       "      <td>0</td>\n",
       "      <td>5</td>\n",
       "      <td>8</td>\n",
       "      <td>7</td>\n",
       "      <td>6.666667</td>\n",
       "    </tr>\n",
       "    <tr>\n",
       "      <th>173</th>\n",
       "      <td>GP</td>\n",
       "      <td>F</td>\n",
       "      <td>16</td>\n",
       "      <td>GT3</td>\n",
       "      <td>T</td>\n",
       "      <td>1</td>\n",
       "      <td>3</td>\n",
       "      <td>at_home</td>\n",
       "      <td>services</td>\n",
       "      <td>mother</td>\n",
       "      <td>...</td>\n",
       "      <td>yes</td>\n",
       "      <td>4</td>\n",
       "      <td>3</td>\n",
       "      <td>5</td>\n",
       "      <td>3</td>\n",
       "      <td>0</td>\n",
       "      <td>8</td>\n",
       "      <td>7</td>\n",
       "      <td>0</td>\n",
       "      <td>5.000000</td>\n",
       "    </tr>\n",
       "    <tr>\n",
       "      <th>206</th>\n",
       "      <td>GP</td>\n",
       "      <td>F</td>\n",
       "      <td>16</td>\n",
       "      <td>GT3</td>\n",
       "      <td>A</td>\n",
       "      <td>3</td>\n",
       "      <td>1</td>\n",
       "      <td>services</td>\n",
       "      <td>other</td>\n",
       "      <td>mother</td>\n",
       "      <td>...</td>\n",
       "      <td>no</td>\n",
       "      <td>2</td>\n",
       "      <td>3</td>\n",
       "      <td>3</td>\n",
       "      <td>4</td>\n",
       "      <td>5</td>\n",
       "      <td>7</td>\n",
       "      <td>7</td>\n",
       "      <td>7</td>\n",
       "      <td>7.000000</td>\n",
       "    </tr>\n",
       "    <tr>\n",
       "      <th>247</th>\n",
       "      <td>GP</td>\n",
       "      <td>M</td>\n",
       "      <td>22</td>\n",
       "      <td>GT3</td>\n",
       "      <td>T</td>\n",
       "      <td>3</td>\n",
       "      <td>1</td>\n",
       "      <td>services</td>\n",
       "      <td>services</td>\n",
       "      <td>mother</td>\n",
       "      <td>...</td>\n",
       "      <td>yes</td>\n",
       "      <td>5</td>\n",
       "      <td>4</td>\n",
       "      <td>5</td>\n",
       "      <td>1</td>\n",
       "      <td>16</td>\n",
       "      <td>6</td>\n",
       "      <td>8</td>\n",
       "      <td>8</td>\n",
       "      <td>7.333333</td>\n",
       "    </tr>\n",
       "    <tr>\n",
       "      <th>350</th>\n",
       "      <td>MS</td>\n",
       "      <td>M</td>\n",
       "      <td>19</td>\n",
       "      <td>GT3</td>\n",
       "      <td>T</td>\n",
       "      <td>1</td>\n",
       "      <td>1</td>\n",
       "      <td>other</td>\n",
       "      <td>services</td>\n",
       "      <td>other</td>\n",
       "      <td>...</td>\n",
       "      <td>no</td>\n",
       "      <td>5</td>\n",
       "      <td>4</td>\n",
       "      <td>4</td>\n",
       "      <td>2</td>\n",
       "      <td>8</td>\n",
       "      <td>8</td>\n",
       "      <td>7</td>\n",
       "      <td>8</td>\n",
       "      <td>7.666667</td>\n",
       "    </tr>\n",
       "    <tr>\n",
       "      <th>392</th>\n",
       "      <td>MS</td>\n",
       "      <td>M</td>\n",
       "      <td>21</td>\n",
       "      <td>GT3</td>\n",
       "      <td>T</td>\n",
       "      <td>1</td>\n",
       "      <td>1</td>\n",
       "      <td>other</td>\n",
       "      <td>other</td>\n",
       "      <td>other</td>\n",
       "      <td>...</td>\n",
       "      <td>no</td>\n",
       "      <td>5</td>\n",
       "      <td>5</td>\n",
       "      <td>3</td>\n",
       "      <td>3</td>\n",
       "      <td>3</td>\n",
       "      <td>10</td>\n",
       "      <td>8</td>\n",
       "      <td>7</td>\n",
       "      <td>8.333333</td>\n",
       "    </tr>\n",
       "  </tbody>\n",
       "</table>\n",
       "<p>16 rows × 28 columns</p>\n",
       "</div>"
      ],
      "text/plain": [
       "    school sex  age famsize Pstatus  Medu  Fedu      Mjob      Fjob guardian  \\\n",
       "2       GP   F   15     LE3       T     1     1   at_home     other   mother   \n",
       "18      GP   M   17     GT3       T     3     2  services  services   mother   \n",
       "78      GP   M   17     GT3       T     2     1     other     other   mother   \n",
       "127     GP   F   19     GT3       T     0     1   at_home     other    other   \n",
       "144     GP   M   17     GT3       T     2     1     other     other   mother   \n",
       "146     GP   F   15     GT3       T     3     2    health  services   father   \n",
       "149     GP   M   15     LE3       A     2     1  services     other   mother   \n",
       "150     GP   M   18     LE3       T     1     1     other     other   mother   \n",
       "153     GP   M   19     GT3       T     3     2  services   at_home   mother   \n",
       "157     GP   F   18     GT3       T     1     1   at_home     other   mother   \n",
       "164     GP   M   17     LE3       T     1     1     other  services   mother   \n",
       "173     GP   F   16     GT3       T     1     3   at_home  services   mother   \n",
       "206     GP   F   16     GT3       A     3     1  services     other   mother   \n",
       "247     GP   M   22     GT3       T     3     1  services  services   mother   \n",
       "350     MS   M   19     GT3       T     1     1     other  services    other   \n",
       "392     MS   M   21     GT3       T     1     1     other     other    other   \n",
       "\n",
       "     ...  romantic  famrel  freetime goout health absences  G1 G2  G3  \\\n",
       "2    ...        no       4         3     2      3       10   7  8  10   \n",
       "18   ...        no       5         5     5      5       16   6  5   5   \n",
       "78   ...        no       4         5     1      3        2   8  8  10   \n",
       "127  ...        no       3         4     2      5        2   7  8   9   \n",
       "144  ...        no       5         4     5      5        0   5  0   0   \n",
       "146  ...        no       3         3     2      3        0   6  7   0   \n",
       "149  ...        no       4         5     5      5        0   8  9  10   \n",
       "150  ...       yes       2         3     5      4        0   6  5   0   \n",
       "153  ...       yes       4         5     4      4        0   5  0   0   \n",
       "157  ...        no       5         2     5      4        6   9  8  10   \n",
       "164  ...       yes       5         3     5      5        0   5  8   7   \n",
       "173  ...       yes       4         3     5      3        0   8  7   0   \n",
       "206  ...        no       2         3     3      4        5   7  7   7   \n",
       "247  ...       yes       5         4     5      1       16   6  8   8   \n",
       "350  ...        no       5         4     4      2        8   8  7   8   \n",
       "392  ...        no       5         5     3      3        3  10  8   7   \n",
       "\n",
       "        G-avg  \n",
       "2    8.333333  \n",
       "18   5.333333  \n",
       "78   8.666667  \n",
       "127  8.000000  \n",
       "144  1.666667  \n",
       "146  4.333333  \n",
       "149  9.000000  \n",
       "150  3.666667  \n",
       "153  1.666667  \n",
       "157  9.000000  \n",
       "164  6.666667  \n",
       "173  5.000000  \n",
       "206  7.000000  \n",
       "247  7.333333  \n",
       "350  7.666667  \n",
       "392  8.333333  \n",
       "\n",
       "[16 rows x 28 columns]"
      ]
     },
     "execution_count": 16,
     "metadata": {},
     "output_type": "execute_result"
    }
   ],
   "source": [
    "df.loc[df.failures==3]"
   ]
  },
  {
   "cell_type": "markdown",
   "id": "7624f6ad",
   "metadata": {},
   "source": [
    "The failure and age are clearly unrelated in the above code, as seen by the instances where students as young as 15, 16, 17  yet had 3 failures."
   ]
  },
  {
   "cell_type": "code",
   "execution_count": 17,
   "id": "824e0aaf",
   "metadata": {},
   "outputs": [
    {
     "data": {
      "text/plain": [
       "(array([208.,   0.,   0.,   0.,   0.,   0.,   0.,   0.,   0., 187.]),\n",
       " array([0. , 0.1, 0.2, 0.3, 0.4, 0.5, 0.6, 0.7, 0.8, 0.9, 1. ]),\n",
       " <BarContainer object of 10 artists>)"
      ]
     },
     "execution_count": 17,
     "metadata": {},
     "output_type": "execute_result"
    },
    {
     "data": {
      "image/png": "[encoded data removed]",
      "text/plain": [
       "<Figure size 432x288 with 1 Axes>"
      ]
     },
     "metadata": {
      "needs_background": "light"
     },
     "output_type": "display_data"
    }
   ],
   "source": [
    "plt.hist(df.sex)"
   ]
  },
  {
   "cell_type": "markdown",
   "id": "43e2585a",
   "metadata": {},
   "source": [
    "The number of male and female students does not significantly differ, however as can be seen from the above plot, the female student count (210) is slightly greater than the male student count (185)"
   ]
  },
  {
   "cell_type": "code",
   "execution_count": 18,
   "id": "73da6e3b",
   "metadata": {},
   "outputs": [
    {
     "data": {
      "text/plain": [
       "(array([257.,   0.,   0., 107.,   0.,   0.,  23.,   0.,   0.,   8.]),\n",
       " array([1. , 1.3, 1.6, 1.9, 2.2, 2.5, 2.8, 3.1, 3.4, 3.7, 4. ]),\n",
       " <BarContainer object of 10 artists>)"
      ]
     },
     "execution_count": 18,
     "metadata": {},
     "output_type": "execute_result"
    },
    {
     "data": {
      "image/png": "[encoded data removed]",
      "text/plain": [
       "<Figure size 432x288 with 1 Axes>"
      ]
     },
     "metadata": {
      "needs_background": "light"
     },
     "output_type": "display_data"
    }
   ],
   "source": [
    "plt.hist(df.traveltime)"
   ]
  },
  {
   "cell_type": "markdown",
   "id": "b63392c5",
   "metadata": {},
   "source": [
    "Only a very small number of pupils have longer travel times than the average of 4 hours a day. Most pupils only get it for 1 hour."
   ]
  },
  {
   "cell_type": "code",
   "execution_count": 19,
   "id": "62513425",
   "metadata": {},
   "outputs": [
    {
     "data": {
      "text/plain": [
       "{'whiskers': [<matplotlib.lines.Line2D at 0x1957d1e0e20>,\n",
       "  <matplotlib.lines.Line2D at 0x1957d1f01c0>,\n",
       "  <matplotlib.lines.Line2D at 0x1957d1fc640>,\n",
       "  <matplotlib.lines.Line2D at 0x1957d1fc9a0>],\n",
       " 'caps': [<matplotlib.lines.Line2D at 0x1957d1f0520>,\n",
       "  <matplotlib.lines.Line2D at 0x1957d1f0880>,\n",
       "  <matplotlib.lines.Line2D at 0x1957d1fcd00>,\n",
       "  <matplotlib.lines.Line2D at 0x1957d2090a0>],\n",
       " 'boxes': [<matplotlib.lines.Line2D at 0x1957d1e0ac0>,\n",
       "  <matplotlib.lines.Line2D at 0x1957d1fc2e0>],\n",
       " 'medians': [<matplotlib.lines.Line2D at 0x1957d1f0be0>,\n",
       "  <matplotlib.lines.Line2D at 0x1957d209400>],\n",
       " 'fliers': [<matplotlib.lines.Line2D at 0x1957d1f0f40>,\n",
       "  <matplotlib.lines.Line2D at 0x1957d209760>],\n",
       " 'means': []}"
      ]
     },
     "execution_count": 19,
     "metadata": {},
     "output_type": "execute_result"
    },
    {
     "data": {
      "image/png": "[encoded data removed]",
      "text/plain": [
       "<Figure size 432x288 with 1 Axes>"
      ]
     },
     "metadata": {
      "needs_background": "light"
     },
     "output_type": "display_data"
    }
   ],
   "source": [
    "plt.boxplot(df[['Medu','Fedu']])"
   ]
  },
  {
   "cell_type": "markdown",
   "id": "8930a39f",
   "metadata": {},
   "source": [
    "There is only one father who is uneducated among the parents, and the most of them appear to be well educated (based on their high rates on a scale of 1 to 4, it appears that most of them have graduated). On a scale of 1 to 4, mothers receive higher scores than fathers since they are more educated."
   ]
  },
  {
   "cell_type": "code",
   "execution_count": 20,
   "id": "4e176385",
   "metadata": {},
   "outputs": [
    {
     "name": "stdout",
     "output_type": "stream",
     "text": [
      "Number of students involved in  any sort of activities:\n",
      "yes    201\n",
      "no     194\n",
      "Name: activities, dtype: int64\n",
      "Number of students been to nursery or not\n",
      "yes    314\n",
      "no      81\n",
      "Name: nursery, dtype: int64\n",
      "Number of student that uses internet\n",
      "yes    329\n",
      "no      66\n",
      "Name: internet, dtype: int64\n"
     ]
    }
   ],
   "source": [
    "print(\"Number of students involved in  any sort of activities:\")\n",
    "print(df.activities.value_counts())\n",
    "print('Number of students been to nursery or not')\n",
    "print(df.nursery.value_counts())\n",
    "print(\"Number of student that uses internet\")\n",
    "print(df.internet.value_counts())"
   ]
  },
  {
   "cell_type": "code",
   "execution_count": 21,
   "id": "7fe04b1c",
   "metadata": {},
   "outputs": [
    {
     "data": {
      "text/plain": [
       "[<matplotlib.lines.Line2D at 0x1957d2613d0>]"
      ]
     },
     "execution_count": 21,
     "metadata": {},
     "output_type": "execute_result"
    },
    {
     "data": {
      "image/png": "[encoded data removed]",
      "text/plain": [
       "<Figure size 720x576 with 1 Axes>"
      ]
     },
     "metadata": {
      "needs_background": "light"
     },
     "output_type": "display_data"
    }
   ],
   "source": [
    "plt.figure(figsize=(10,8))\n",
    "plt.plot(df.absences)"
   ]
  },
  {
   "cell_type": "markdown",
   "id": "a29cfab9",
   "metadata": {},
   "source": [
    "According to the line plot above, the majority of students have absences that are less than 15. There are some instances where this number is higher, but for the most part, it is less than 15. 75 was the highest number."
   ]
  },
  {
   "cell_type": "code",
   "execution_count": 22,
   "id": "7ec1988e",
   "metadata": {},
   "outputs": [
    {
     "data": {
      "text/plain": [
       "Text(0.5, 1.0, 'number of hours that each students go outside')"
      ]
     },
     "execution_count": 22,
     "metadata": {},
     "output_type": "execute_result"
    },
    {
     "data": {
      "image/png": "[encoded data removed]",
      "text/plain": [
       "<Figure size 432x288 with 1 Axes>"
      ]
     },
     "metadata": {
      "needs_background": "light"
     },
     "output_type": "display_data"
    }
   ],
   "source": [
    "plt.hist(df.goout);\n",
    "plt.title(\"number of hours that each students go outside\")"
   ]
  },
  {
   "cell_type": "markdown",
   "id": "dc2ab525",
   "metadata": {},
   "source": [
    "Few pupils go outside for just one hour; most spend a maximum of three hours outside \n",
    "(perhaps for several physical activities)"
   ]
  },
  {
   "cell_type": "code",
   "execution_count": 23,
   "id": "8412db98",
   "metadata": {},
   "outputs": [
    {
     "data": {
      "text/plain": [
       "Text(0.5, 1.0, 'students health on a scale of 1 to 5')"
      ]
     },
     "execution_count": 23,
     "metadata": {},
     "output_type": "execute_result"
    },
    {
     "data": {
      "image/png": "[encoded data removed]",
      "text/plain": [
       "<Figure size 432x288 with 1 Axes>"
      ]
     },
     "metadata": {
      "needs_background": "light"
     },
     "output_type": "display_data"
    }
   ],
   "source": [
    "plt.hist(df.health);\n",
    "plt.title(\"students health on a scale of 1 to 5\")"
   ]
  },
  {
   "cell_type": "code",
   "execution_count": 24,
   "id": "0f2396e5",
   "metadata": {},
   "outputs": [
    {
     "data": {
      "text/plain": [
       "Text(0.5, 1.0, 'Number of students free hours')"
      ]
     },
     "execution_count": 24,
     "metadata": {},
     "output_type": "execute_result"
    },
    {
     "data": {
      "image/png": "[encoded data removed]",
      "text/plain": [
       "<Figure size 432x288 with 1 Axes>"
      ]
     },
     "metadata": {
      "needs_background": "light"
     },
     "output_type": "display_data"
    }
   ],
   "source": [
    "plt.hist(df.freetime)\n",
    "plt.title('Number of students free hours')"
   ]
  },
  {
   "cell_type": "markdown",
   "id": "2e72734d",
   "metadata": {},
   "source": [
    "The above plot shows us the Maximum number students hava free time is 3 hrs"
   ]
  },
  {
   "cell_type": "code",
   "execution_count": 25,
   "id": "e9ffe0a1",
   "metadata": {},
   "outputs": [
    {
     "data": {
      "text/plain": [
       "Text(0.5, 1.0, 'students guardian')"
      ]
     },
     "execution_count": 25,
     "metadata": {},
     "output_type": "execute_result"
    },
    {
     "data": {
      "image/png": "[encoded data removed]",
      "text/plain": [
       "<Figure size 432x288 with 1 Axes>"
      ]
     },
     "metadata": {
      "needs_background": "light"
     },
     "output_type": "display_data"
    }
   ],
   "source": [
    "plt.hist(df.guardian)\n",
    "plt.title('students guardian')"
   ]
  },
  {
   "cell_type": "markdown",
   "id": "20af6624",
   "metadata": {},
   "source": [
    "According to the histogram, most pupils guardians are their mothers, while very few have different guardians."
   ]
  },
  {
   "cell_type": "code",
   "execution_count": 26,
   "id": "1a4b1bcf",
   "metadata": {},
   "outputs": [],
   "source": [
    "a=[]\n",
    "for values in df.Mjob.value_counts():\n",
    "    a.append(values)"
   ]
  },
  {
   "cell_type": "code",
   "execution_count": 27,
   "id": "61f25f65",
   "metadata": {},
   "outputs": [],
   "source": [
    "label = ['other','services','at_home','teacher','health']"
   ]
  },
  {
   "cell_type": "code",
   "execution_count": 28,
   "id": "834f0e50",
   "metadata": {},
   "outputs": [
    {
     "data": {
      "text/plain": [
       "Text(0.5, 1.0, 'mothers various occupation')"
      ]
     },
     "execution_count": 28,
     "metadata": {},
     "output_type": "execute_result"
    },
    {
     "data": {
      "image/png": "[encoded data removed]",
      "text/plain": [
       "<Figure size 432x288 with 1 Axes>"
      ]
     },
     "metadata": {},
     "output_type": "display_data"
    }
   ],
   "source": [
    "plt.pie(a,labels =label)\n",
    "plt.title('mothers various occupation')"
   ]
  },
  {
   "cell_type": "markdown",
   "id": "8cda7739",
   "metadata": {},
   "source": [
    "Let's see whether there is a correlation between better grades and having a teacher for a mother"
   ]
  },
  {
   "cell_type": "code",
   "execution_count": 29,
   "id": "ae1d8dad",
   "metadata": {},
   "outputs": [
    {
     "data": {
      "text/plain": [
       "10      9.000000\n",
       "13     10.333333\n",
       "20     14.000000\n",
       "22     15.333333\n",
       "29     11.000000\n",
       "32     16.333333\n",
       "36     16.333333\n",
       "41     12.000000\n",
       "48     14.666667\n",
       "57     14.666667\n",
       "63      9.333333\n",
       "65     15.333333\n",
       "75      9.333333\n",
       "76     10.666667\n",
       "89      7.000000\n",
       "93     10.333333\n",
       "110    18.666667\n",
       "113    18.666667\n",
       "115    15.333333\n",
       "129    18.000000\n",
       "139    15.666667\n",
       "140     5.333333\n",
       "142    10.333333\n",
       "148     4.333333\n",
       "172    11.333333\n",
       "175     9.333333\n",
       "178     9.000000\n",
       "180     8.333333\n",
       "197     9.333333\n",
       "199     9.333333\n",
       "207    12.000000\n",
       "209     7.000000\n",
       "224    13.333333\n",
       "232     9.666667\n",
       "241    11.000000\n",
       "242     2.000000\n",
       "256    13.000000\n",
       "261     8.000000\n",
       "267    11.000000\n",
       "277     9.000000\n",
       "279    10.333333\n",
       "281    10.000000\n",
       "289    14.333333\n",
       "290    11.333333\n",
       "299    15.666667\n",
       "307     8.333333\n",
       "319    11.000000\n",
       "328     9.333333\n",
       "329    14.000000\n",
       "341     6.666667\n",
       "346    15.666667\n",
       "347     9.666667\n",
       "356    12.666667\n",
       "366    13.000000\n",
       "377     9.000000\n",
       "380    14.333333\n",
       "386     5.666667\n",
       "388     8.000000\n",
       "Name: G-avg, dtype: float64"
      ]
     },
     "execution_count": 29,
     "metadata": {},
     "output_type": "execute_result"
    }
   ],
   "source": [
    "df['G-avg'].loc[df.Mjob=='teacher']"
   ]
  },
  {
   "cell_type": "markdown",
   "id": "e17cdb0b",
   "metadata": {},
   "source": [
    "Given that the range starts at a minimum grade of 5, and goes up to a maximum grade of 18, \n",
    "it demonstrates that the mother's occupation has little impact on the student's grades."
   ]
  },
  {
   "cell_type": "code",
   "execution_count": 30,
   "id": "0468508f",
   "metadata": {},
   "outputs": [],
   "source": [
    "b=[]\n",
    "for job in df.Fjob.value_counts():\n",
    "    b.append(job)"
   ]
  },
  {
   "cell_type": "code",
   "execution_count": 31,
   "id": "82056400",
   "metadata": {},
   "outputs": [
    {
     "data": {
      "text/plain": [
       "Text(0.5, 1.0, 'fathers various occupation')"
      ]
     },
     "execution_count": 31,
     "metadata": {},
     "output_type": "execute_result"
    },
    {
     "data": {
      "image/png": "[encoded data removed]",
      "text/plain": [
       "<Figure size 432x288 with 1 Axes>"
      ]
     },
     "metadata": {},
     "output_type": "display_data"
    }
   ],
   "source": [
    "plt.pie(b, labels=['other','services','teacher','at_home','health'])\n",
    "plt.title(\"fathers various occupation\")"
   ]
  },
  {
   "cell_type": "code",
   "execution_count": 32,
   "id": "978597b5",
   "metadata": {},
   "outputs": [
    {
     "data": {
      "text/plain": [
       "0       5.666667\n",
       "7       5.666667\n",
       "29     11.000000\n",
       "37     15.333333\n",
       "42     18.333333\n",
       "49      7.000000\n",
       "60     10.666667\n",
       "101    16.666667\n",
       "110    18.666667\n",
       "115    15.333333\n",
       "116    12.666667\n",
       "129    18.000000\n",
       "130     4.000000\n",
       "134     3.000000\n",
       "139    15.666667\n",
       "148     4.333333\n",
       "154    11.333333\n",
       "196    16.000000\n",
       "198    18.000000\n",
       "199     9.333333\n",
       "222    16.333333\n",
       "232     9.666667\n",
       "287    12.333333\n",
       "289    14.333333\n",
       "299    15.666667\n",
       "301    10.666667\n",
       "329    14.000000\n",
       "369    12.333333\n",
       "380    14.333333\n",
       "Name: G-avg, dtype: float64"
      ]
     },
     "execution_count": 32,
     "metadata": {},
     "output_type": "execute_result"
    }
   ],
   "source": [
    "df['G-avg'].loc[df.Fjob=='teacher']"
   ]
  },
  {
   "cell_type": "markdown",
   "id": "aa491f0c",
   "metadata": {},
   "source": [
    "Similar to mothers occupation, fathers occupation has little bearing on students' grades."
   ]
  },
  {
   "cell_type": "code",
   "execution_count": null,
   "id": "7428408c",
   "metadata": {},
   "outputs": [],
   "source": []
  }
 ],
 "metadata": {
  "kernelspec": {
   "display_name": "Python 3",
   "language": "python",
   "name": "python3"
  },
  "language_info": {
   "codemirror_mode": {
    "name": "ipython",
    "version": 3
   },
   "file_extension": ".py",
   "mimetype": "text/x-python",
   "name": "python",
   "nbconvert_exporter": "python",
   "pygments_lexer": "ipython3",
   "version": "3.8.8"
  }
 },
 "nbformat": 4,
 "nbformat_minor": 5
}
